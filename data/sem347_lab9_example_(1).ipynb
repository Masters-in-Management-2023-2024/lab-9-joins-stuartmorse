{
  "cells": [
    {
      "cell_type": "markdown",
      "metadata": {
        "id": "gs_wOGI5yU1w"
      },
      "source": [
        "# OPAN5510 Lab Assignment - Joins\n",
        "\n",
        "This lab focuses on using Polars to perform data joins and aggregations to answer business questions."
      ]
    },
    {
      "cell_type": "markdown",
      "metadata": {
        "id": "1RC5vZJsyU1x"
      },
      "source": [
        "# Bike Trips Dataset\n",
        "\n",
        "## Prerequisites\n",
        "\n",
        "For this assignment, you'll need to use Polars for data manipulation.\n",
        "\n",
        "*Insert a code block to import necessary packages (polars)*"
      ]
    },
    {
      "cell_type": "code",
      "execution_count": 1,
      "metadata": {
        "id": "U6sEu6oqyU1x"
      },
      "outputs": [],
      "source": [
        "# Import necessary packages\n",
        "import polars as pl"
      ]
    },
    {
      "cell_type": "markdown",
      "metadata": {
        "id": "BcAhQENByU1x"
      },
      "source": [
        "## Load Datasets\n",
        "\n",
        "Load the `bike_trips.csv` and `bike_weather.csv` files into Polars DataFrames called `trips` and `weather`, respectively.\n",
        "\n",
        "*Insert code block that reads these files into Polars DataFrames*"
      ]
    },
    {
      "cell_type": "code",
      "execution_count": 2,
      "metadata": {
        "colab": {
          "base_uri": "https://localhost:8080/"
        },
        "id": "O1NJ_d1SyU1x",
        "outputId": "70f767e6-056c-40d9-f021-fdef07fc49b1"
      },
      "outputs": [
        {
          "output_type": "stream",
          "name": "stdout",
          "text": [
            "78704\n",
            "733\n"
          ]
        }
      ],
      "source": [
        "# Load the bike trips and weather data\n",
        "trips = pl.read_csv(\"https://raw.githubusercontent.com/philhetzel/opan5510-class9/refs/heads/main/data/bike_trips.csv\", null_values='NA')\n",
        "weather = pl.read_csv(\"https://raw.githubusercontent.com/philhetzel/opan5510-class9/refs/heads/main/data/bike_weather.csv\", null_values=['NA',''])\n",
        "\n",
        "trips = trips.with_columns(pl.col(\"date\").str.strptime(pl.Date, \"%Y-%m-%d\").alias(\"date\")) # ensure date column is typed correctly\n",
        "weather = weather.with_columns(pl.col(\"date\").str.strptime(pl.Date, \"%Y-%m-%d\").alias(\"date\")) # ensure date column is typed correctly\n",
        "print(trips.height)\n",
        "print(weather.height)"
      ]
    },
    {
      "cell_type": "markdown",
      "metadata": {
        "id": "R04JtG9EyU1x"
      },
      "source": [
        "## Business Question 1: What was the average `duration` of trips that occurred in rainy weather?\n",
        "\n",
        "#### Part A: Join the trips and weather data frames\n",
        "\n",
        "The `trips` data represent every ride taken for a bike share company. The `weather` data represent the prevailing weather for a particular day. Join the `trips` and `weather` data together using the `date` column. Name the resulting DataFrame `trips_weather`.\n",
        "\n",
        "*Insert a code block below that joins `trips` to `weather` using the `date` column.*"
      ]
    },
    {
      "cell_type": "code",
      "execution_count": 4,
      "metadata": {
        "id": "LMuv46gAyU1y",
        "colab": {
          "base_uri": "https://localhost:8080/",
          "height": 637
        },
        "outputId": "f94f1526-b646-4bcf-9dfb-373ee3804d5b"
      },
      "outputs": [
        {
          "output_type": "execute_result",
          "data": {
            "text/plain": [
              "shape: (78_704, 35)\n",
              "┌────────┬──────────┬─────────────┬────────────┬───┬────────────┬────────┬────────────┬────────────┐\n",
              "│ id     ┆ duration ┆ start_date  ┆ start_stat ┆ … ┆ cloud_cove ┆ events ┆ wind_dir_d ┆ zip_code_w │\n",
              "│ ---    ┆ ---      ┆ ---         ┆ ion_name   ┆   ┆ r          ┆ ---    ┆ egrees     ┆ eather     │\n",
              "│ i64    ┆ i64      ┆ str         ┆ ---        ┆   ┆ ---        ┆ str    ┆ ---        ┆ ---        │\n",
              "│        ┆          ┆             ┆ str        ┆   ┆ i64        ┆        ┆ i64        ┆ i64        │\n",
              "╞════════╪══════════╪═════════════╪════════════╪═══╪════════════╪════════╪════════════╪════════════╡\n",
              "│ 4721   ┆ 3        ┆ 2013-08-29T ┆ Market at  ┆ … ┆ 4          ┆ null   ┆ 286        ┆ 94107      │\n",
              "│        ┆          ┆ 20:27:00Z   ┆ 10th       ┆   ┆            ┆        ┆            ┆            │\n",
              "│ 4812   ┆ 3        ┆ 2013-08-29T ┆ 2nd at     ┆ … ┆ 4          ┆ null   ┆ 286        ┆ 94107      │\n",
              "│        ┆          ┆ 21:30:00Z   ┆ Folsom     ┆   ┆            ┆        ┆            ┆            │\n",
              "│ 4705   ┆ 3        ┆ 2013-08-29T ┆ Golden     ┆ … ┆ 4          ┆ null   ┆ 286        ┆ 94107      │\n",
              "│        ┆          ┆ 20:15:00Z   ┆ Gate at    ┆   ┆            ┆        ┆            ┆            │\n",
              "│        ┆          ┆             ┆ Polk       ┆   ┆            ┆        ┆            ┆            │\n",
              "│ 4841   ┆ 3        ┆ 2013-08-29T ┆ University ┆ … ┆ 4          ┆ null   ┆ 286        ┆ 94107      │\n",
              "│        ┆          ┆ 21:48:00Z   ┆ and        ┆   ┆            ┆        ┆            ┆            │\n",
              "│        ┆          ┆             ┆ Emerson    ┆   ┆            ┆        ┆            ┆            │\n",
              "│ 4668   ┆ 4        ┆ 2013-08-29T ┆ San        ┆ … ┆ 4          ┆ null   ┆ 286        ┆ 94107      │\n",
              "│        ┆          ┆ 19:39:00Z   ┆ Francisco  ┆   ┆            ┆        ┆            ┆            │\n",
              "│        ┆          ┆             ┆ Caltrain 2 ┆   ┆            ┆        ┆            ┆            │\n",
              "│        ┆          ┆             ┆ (330 …     ┆   ┆            ┆        ┆            ┆            │\n",
              "│ …      ┆ …        ┆ …           ┆ …          ┆ … ┆ …          ┆ …      ┆ …          ┆ …          │\n",
              "│ 433040 ┆ 3        ┆ 2014-09-01T ┆ Townsend   ┆ … ┆ 0          ┆ null   ┆ 290        ┆ 94107      │\n",
              "│        ┆          ┆ 14:43:00Z   ┆ at 7th     ┆   ┆            ┆        ┆            ┆            │\n",
              "│ 433035 ┆ 9        ┆ 2014-09-01T ┆ Powell     ┆ … ┆ 0          ┆ null   ┆ 290        ┆ 94107      │\n",
              "│        ┆          ┆ 14:37:00Z   ┆ Street     ┆   ┆            ┆        ┆            ┆            │\n",
              "│        ┆          ┆             ┆ BART       ┆   ┆            ┆        ┆            ┆            │\n",
              "│ 433030 ┆ 6        ┆ 2014-09-01T ┆ Powell     ┆ … ┆ 0          ┆ null   ┆ 290        ┆ 94107      │\n",
              "│        ┆          ┆ 14:31:00Z   ┆ Street     ┆   ┆            ┆        ┆            ┆            │\n",
              "│        ┆          ┆             ┆ BART       ┆   ┆            ┆        ┆            ┆            │\n",
              "│ 433004 ┆ 7        ┆ 2014-09-01T ┆ Steuart at ┆ … ┆ 0          ┆ null   ┆ 290        ┆ 94107      │\n",
              "│        ┆          ┆ 13:36:00Z   ┆ Market     ┆   ┆            ┆        ┆            ┆            │\n",
              "│ 432998 ┆ 6        ┆ 2014-09-01T ┆ Market at  ┆ … ┆ 0          ┆ null   ┆ 290        ┆ 94107      │\n",
              "│        ┆          ┆ 13:16:00Z   ┆ 10th       ┆   ┆            ┆        ┆            ┆            │\n",
              "└────────┴──────────┴─────────────┴────────────┴───┴────────────┴────────┴────────────┴────────────┘"
            ],
            "text/html": [
              "<div><style>\n",
              ".dataframe > thead > tr,\n",
              ".dataframe > tbody > tr {\n",
              "  text-align: right;\n",
              "  white-space: pre-wrap;\n",
              "}\n",
              "</style>\n",
              "<small>shape: (78_704, 35)</small><table border=\"1\" class=\"dataframe\"><thead><tr><th>id</th><th>duration</th><th>start_date</th><th>start_station_name</th><th>start_station_id</th><th>end_date</th><th>end_station_name</th><th>end_station_id</th><th>bike_id</th><th>subscription_type</th><th>zip_code</th><th>date</th><th>max_temperature_f</th><th>mean_temperature_f</th><th>min_temperature_f</th><th>max_dew_point_f</th><th>mean_dew_point_f</th><th>min_dew_point_f</th><th>max_humidity</th><th>mean_humidity</th><th>min_humidity</th><th>max_sea_level_pressure_inches</th><th>mean_sea_level_pressure_inches</th><th>min_sea_level_pressure_inches</th><th>max_visibility_miles</th><th>mean_visibility_miles</th><th>min_visibility_miles</th><th>max_wind_Speed_mph</th><th>mean_wind_speed_mph</th><th>max_gust_speed_mph</th><th>precipitation_inches</th><th>cloud_cover</th><th>events</th><th>wind_dir_degrees</th><th>zip_code_weather</th></tr><tr><td>i64</td><td>i64</td><td>str</td><td>str</td><td>i64</td><td>str</td><td>str</td><td>i64</td><td>i64</td><td>str</td><td>i64</td><td>date</td><td>i64</td><td>i64</td><td>i64</td><td>i64</td><td>i64</td><td>i64</td><td>i64</td><td>i64</td><td>i64</td><td>f64</td><td>f64</td><td>f64</td><td>i64</td><td>i64</td><td>i64</td><td>i64</td><td>i64</td><td>i64</td><td>str</td><td>i64</td><td>str</td><td>i64</td><td>i64</td></tr></thead><tbody><tr><td>4721</td><td>3</td><td>&quot;2013-08-29T20:27:00Z&quot;</td><td>&quot;Market at 10th&quot;</td><td>67</td><td>&quot;2013-08-29T20:30:00Z&quot;</td><td>&quot;South Van Ness at Market&quot;</td><td>66</td><td>416</td><td>&quot;Subscriber&quot;</td><td>94107</td><td>2013-08-29</td><td>74</td><td>68</td><td>61</td><td>61</td><td>58</td><td>56</td><td>93</td><td>75</td><td>57</td><td>30.07</td><td>30.02</td><td>29.97</td><td>10</td><td>10</td><td>10</td><td>23</td><td>11</td><td>28</td><td>&quot;0&quot;</td><td>4</td><td>null</td><td>286</td><td>94107</td></tr><tr><td>4812</td><td>3</td><td>&quot;2013-08-29T21:30:00Z&quot;</td><td>&quot;2nd at Folsom&quot;</td><td>62</td><td>&quot;2013-08-29T21:33:00Z&quot;</td><td>&quot;2nd at Folsom&quot;</td><td>62</td><td>409</td><td>&quot;Subscriber&quot;</td><td>94107</td><td>2013-08-29</td><td>74</td><td>68</td><td>61</td><td>61</td><td>58</td><td>56</td><td>93</td><td>75</td><td>57</td><td>30.07</td><td>30.02</td><td>29.97</td><td>10</td><td>10</td><td>10</td><td>23</td><td>11</td><td>28</td><td>&quot;0&quot;</td><td>4</td><td>null</td><td>286</td><td>94107</td></tr><tr><td>4705</td><td>3</td><td>&quot;2013-08-29T20:15:00Z&quot;</td><td>&quot;Golden Gate at Polk&quot;</td><td>59</td><td>&quot;2013-08-29T20:18:00Z&quot;</td><td>&quot;San Francisco City Hall&quot;</td><td>58</td><td>519</td><td>&quot;Subscriber&quot;</td><td>94107</td><td>2013-08-29</td><td>74</td><td>68</td><td>61</td><td>61</td><td>58</td><td>56</td><td>93</td><td>75</td><td>57</td><td>30.07</td><td>30.02</td><td>29.97</td><td>10</td><td>10</td><td>10</td><td>23</td><td>11</td><td>28</td><td>&quot;0&quot;</td><td>4</td><td>null</td><td>286</td><td>94107</td></tr><tr><td>4841</td><td>3</td><td>&quot;2013-08-29T21:48:00Z&quot;</td><td>&quot;University and Emerson&quot;</td><td>35</td><td>&quot;2013-08-29T21:51:00Z&quot;</td><td>&quot;Cowper at University&quot;</td><td>37</td><td>83</td><td>&quot;Subscriber&quot;</td><td>94107</td><td>2013-08-29</td><td>74</td><td>68</td><td>61</td><td>61</td><td>58</td><td>56</td><td>93</td><td>75</td><td>57</td><td>30.07</td><td>30.02</td><td>29.97</td><td>10</td><td>10</td><td>10</td><td>23</td><td>11</td><td>28</td><td>&quot;0&quot;</td><td>4</td><td>null</td><td>286</td><td>94107</td></tr><tr><td>4668</td><td>4</td><td>&quot;2013-08-29T19:39:00Z&quot;</td><td>&quot;San Francisco Caltrain 2 (330 …</td><td>69</td><td>&quot;2013-08-29T19:43:00Z&quot;</td><td>&quot;Townsend at 7th&quot;</td><td>65</td><td>489</td><td>&quot;Subscriber&quot;</td><td>94107</td><td>2013-08-29</td><td>74</td><td>68</td><td>61</td><td>61</td><td>58</td><td>56</td><td>93</td><td>75</td><td>57</td><td>30.07</td><td>30.02</td><td>29.97</td><td>10</td><td>10</td><td>10</td><td>23</td><td>11</td><td>28</td><td>&quot;0&quot;</td><td>4</td><td>null</td><td>286</td><td>94107</td></tr><tr><td>&hellip;</td><td>&hellip;</td><td>&hellip;</td><td>&hellip;</td><td>&hellip;</td><td>&hellip;</td><td>&hellip;</td><td>&hellip;</td><td>&hellip;</td><td>&hellip;</td><td>&hellip;</td><td>&hellip;</td><td>&hellip;</td><td>&hellip;</td><td>&hellip;</td><td>&hellip;</td><td>&hellip;</td><td>&hellip;</td><td>&hellip;</td><td>&hellip;</td><td>&hellip;</td><td>&hellip;</td><td>&hellip;</td><td>&hellip;</td><td>&hellip;</td><td>&hellip;</td><td>&hellip;</td><td>&hellip;</td><td>&hellip;</td><td>&hellip;</td><td>&hellip;</td><td>&hellip;</td><td>&hellip;</td><td>&hellip;</td><td>&hellip;</td></tr><tr><td>433040</td><td>3</td><td>&quot;2014-09-01T14:43:00Z&quot;</td><td>&quot;Townsend at 7th&quot;</td><td>65</td><td>&quot;2014-09-01T14:46:00Z&quot;</td><td>&quot;San Francisco Caltrain (Townse…</td><td>70</td><td>111</td><td>&quot;Subscriber&quot;</td><td>94107</td><td>2014-09-01</td><td>83</td><td>70</td><td>57</td><td>58</td><td>56</td><td>52</td><td>86</td><td>64</td><td>42</td><td>29.86</td><td>29.82</td><td>29.76</td><td>10</td><td>10</td><td>8</td><td>16</td><td>7</td><td>20</td><td>&quot;0&quot;</td><td>0</td><td>null</td><td>290</td><td>94107</td></tr><tr><td>433035</td><td>9</td><td>&quot;2014-09-01T14:37:00Z&quot;</td><td>&quot;Powell Street BART&quot;</td><td>39</td><td>&quot;2014-09-01T14:46:00Z&quot;</td><td>&quot;Townsend at 7th&quot;</td><td>65</td><td>376</td><td>&quot;Subscriber&quot;</td><td>94107</td><td>2014-09-01</td><td>83</td><td>70</td><td>57</td><td>58</td><td>56</td><td>52</td><td>86</td><td>64</td><td>42</td><td>29.86</td><td>29.82</td><td>29.76</td><td>10</td><td>10</td><td>8</td><td>16</td><td>7</td><td>20</td><td>&quot;0&quot;</td><td>0</td><td>null</td><td>290</td><td>94107</td></tr><tr><td>433030</td><td>6</td><td>&quot;2014-09-01T14:31:00Z&quot;</td><td>&quot;Powell Street BART&quot;</td><td>39</td><td>&quot;2014-09-01T14:37:00Z&quot;</td><td>&quot;Market at 10th&quot;</td><td>67</td><td>421</td><td>&quot;Subscriber&quot;</td><td>94107</td><td>2014-09-01</td><td>83</td><td>70</td><td>57</td><td>58</td><td>56</td><td>52</td><td>86</td><td>64</td><td>42</td><td>29.86</td><td>29.82</td><td>29.76</td><td>10</td><td>10</td><td>8</td><td>16</td><td>7</td><td>20</td><td>&quot;0&quot;</td><td>0</td><td>null</td><td>290</td><td>94107</td></tr><tr><td>433004</td><td>7</td><td>&quot;2014-09-01T13:36:00Z&quot;</td><td>&quot;Steuart at Market&quot;</td><td>74</td><td>&quot;2014-09-01T13:43:00Z&quot;</td><td>&quot;2nd at Townsend&quot;</td><td>61</td><td>449</td><td>&quot;Subscriber&quot;</td><td>94107</td><td>2014-09-01</td><td>83</td><td>70</td><td>57</td><td>58</td><td>56</td><td>52</td><td>86</td><td>64</td><td>42</td><td>29.86</td><td>29.82</td><td>29.76</td><td>10</td><td>10</td><td>8</td><td>16</td><td>7</td><td>20</td><td>&quot;0&quot;</td><td>0</td><td>null</td><td>290</td><td>94107</td></tr><tr><td>432998</td><td>6</td><td>&quot;2014-09-01T13:16:00Z&quot;</td><td>&quot;Market at 10th&quot;</td><td>67</td><td>&quot;2014-09-01T13:22:00Z&quot;</td><td>&quot;Powell Street BART&quot;</td><td>39</td><td>421</td><td>&quot;Subscriber&quot;</td><td>94107</td><td>2014-09-01</td><td>83</td><td>70</td><td>57</td><td>58</td><td>56</td><td>52</td><td>86</td><td>64</td><td>42</td><td>29.86</td><td>29.82</td><td>29.76</td><td>10</td><td>10</td><td>8</td><td>16</td><td>7</td><td>20</td><td>&quot;0&quot;</td><td>0</td><td>null</td><td>290</td><td>94107</td></tr></tbody></table></div>"
            ]
          },
          "metadata": {},
          "execution_count": 4
        }
      ],
      "source": [
        "# Join trips and weather data\n",
        "\n",
        "trip_weather = trips.join(weather, on=\"date\", how = \"inner\")\n",
        "\n",
        "trips_weather"
      ]
    },
    {
      "cell_type": "markdown",
      "metadata": {
        "id": "jAmIh2v9yU1y"
      },
      "source": [
        "#### Part B: Calculate the average `duration` of trips in poor weather\n",
        "\n",
        "Using the `trips_weather` DataFrame, compute the average trip `duration` for days that had weather `events` (i.e. anytime a day had an event of anything but `null`). Name the column for average `duration`: `avg_duration`. The resulting DataFrame should have one row and be named `avg_bad_weather`.\n",
        "\n",
        "*Insert a code block that shows the computation of the average trip duration for days that had a weather event.*"
      ]
    },
    {
      "cell_type": "code",
      "execution_count": 5,
      "metadata": {
        "id": "GfK-KPe2yU1y",
        "colab": {
          "base_uri": "https://localhost:8080/",
          "height": 129
        },
        "outputId": "a9bf8dee-27db-454e-d8ed-5026513c77bf"
      },
      "outputs": [
        {
          "output_type": "execute_result",
          "data": {
            "text/plain": [
              "shape: (1, 1)\n",
              "┌──────────────┐\n",
              "│ avg.duration │\n",
              "│ ---          │\n",
              "│ f64          │\n",
              "╞══════════════╡\n",
              "│ 10.34899     │\n",
              "└──────────────┘"
            ],
            "text/html": [
              "<div><style>\n",
              ".dataframe > thead > tr,\n",
              ".dataframe > tbody > tr {\n",
              "  text-align: right;\n",
              "  white-space: pre-wrap;\n",
              "}\n",
              "</style>\n",
              "<small>shape: (1, 1)</small><table border=\"1\" class=\"dataframe\"><thead><tr><th>avg.duration</th></tr><tr><td>f64</td></tr></thead><tbody><tr><td>10.34899</td></tr></tbody></table></div>"
            ]
          },
          "metadata": {},
          "execution_count": 5
        }
      ],
      "source": [
        "# Calculate average duration for trips with weather events\n",
        "\n",
        "avg_bad_weather = (\n",
        "    trips_weather.filter(pl.col(\"events\").is_not_null())\n",
        "    .select(pl.col(\"duration\").mean().alias(\"avg.duration\"))\n",
        ")\n",
        "\n",
        "avg_bad_weather.head()"
      ]
    },
    {
      "cell_type": "markdown",
      "metadata": {
        "id": "r1HZVy2qyU1y"
      },
      "source": [
        "# Baseball Dataset\n",
        "\n",
        "## Load Data\n",
        "\n",
        "Load the `Batting.csv`, `People.csv`, and `HallOfFame.csv` datasets into Polars DataFrames.\n",
        "\n",
        "*Insert a code block to load your datasets*"
      ]
    },
    {
      "cell_type": "code",
      "execution_count": 6,
      "metadata": {
        "id": "qrZO72DTyU1y"
      },
      "outputs": [],
      "source": [
        "# Load baseball datasets\n",
        "Batting = pl.read_csv(\"https://raw.githubusercontent.com/philhetzel/opan5510-class9/refs/heads/main/data/Batting.csv\", null_values='NA')\n",
        "People = pl.read_csv(\"https://raw.githubusercontent.com/philhetzel/opan5510-class9/refs/heads/main/data/People.csv\", null_values='NA')\n",
        "HallOfFame = pl.read_csv(\"https://raw.githubusercontent.com/philhetzel/opan5510-class9/refs/heads/main/data/HallOfFame.csv\", null_values='NA')\n"
      ]
    },
    {
      "cell_type": "markdown",
      "metadata": {
        "id": "M9wo7SwoyU1y"
      },
      "source": [
        "## Question 2: How many home runs (`HR`) were hit by players born in Florida?\n",
        "\n",
        "#### Part A: Join the `Batting` and `People` DataFrames together\n",
        "\n",
        "In order to answer this question, you'll need to use the `Batting` and `People` DataFrames. The `Batting` DataFrame has hitting statistics for every season that an individual player has played. The `People` DataFrame represents biographical data about every professional baseball player.\n",
        "\n",
        "Join the `People` DataFrame into the `Batting` DataFrame so that we can perform analysis on batting statistics using columns from the `People` DataFrame. Name the new DataFrame `stats_w_bio`.\n",
        "\n",
        "*Insert a code block that joins the `Batting` DataFrame to the `People` DataFrame.*"
      ]
    },
    {
      "cell_type": "code",
      "execution_count": 20,
      "metadata": {
        "id": "BOYs3snEyU1y",
        "colab": {
          "base_uri": "https://localhost:8080/",
          "height": 637
        },
        "outputId": "ab0c9b7f-54ab-4892-9e33-a67c148e6202"
      },
      "outputs": [
        {
          "output_type": "execute_result",
          "data": {
            "text/plain": [
              "shape: (112_184, 47)\n",
              "┌───────────┬────────┬───────┬────────┬───┬──────────┬───────────┬────────────┬────────────┐\n",
              "│ playerID  ┆ yearID ┆ stint ┆ teamID ┆ … ┆ retroID  ┆ bbrefID   ┆ deathDate  ┆ birthDate  │\n",
              "│ ---       ┆ ---    ┆ ---   ┆ ---    ┆   ┆ ---      ┆ ---       ┆ ---        ┆ ---        │\n",
              "│ str       ┆ i64    ┆ i64   ┆ str    ┆   ┆ str      ┆ str       ┆ str        ┆ str        │\n",
              "╞═══════════╪════════╪═══════╪════════╪═══╪══════════╪═══════════╪════════════╪════════════╡\n",
              "│ abercda01 ┆ 1871   ┆ 1     ┆ TRO    ┆ … ┆ aberd101 ┆ abercda01 ┆ 1939-11-11 ┆ 1850-01-02 │\n",
              "│ addybo01  ┆ 1871   ┆ 1     ┆ RC1    ┆ … ┆ addyb101 ┆ addybo01  ┆ 1910-04-09 ┆ null       │\n",
              "│ allisar01 ┆ 1871   ┆ 1     ┆ CL1    ┆ … ┆ allia101 ┆ allisar01 ┆ 1916-02-25 ┆ 1849-01-29 │\n",
              "│ allisdo01 ┆ 1871   ┆ 1     ┆ WS3    ┆ … ┆ allid101 ┆ allisdo01 ┆ 1916-12-19 ┆ 1846-07-12 │\n",
              "│ ansonca01 ┆ 1871   ┆ 1     ┆ RC1    ┆ … ┆ ansoc101 ┆ ansonca01 ┆ 1922-04-14 ┆ 1852-04-17 │\n",
              "│ …         ┆ …      ┆ …     ┆ …      ┆ … ┆ …        ┆ …         ┆ …          ┆ …          │\n",
              "│ zimmebr01 ┆ 2022   ┆ 1     ┆ TOR    ┆ … ┆ zimmb001 ┆ zimmebr01 ┆ null       ┆ 1992-11-27 │\n",
              "│ zimmebr01 ┆ 2022   ┆ 2     ┆ PHI    ┆ … ┆ zimmb001 ┆ zimmebr01 ┆ null       ┆ 1992-11-27 │\n",
              "│ zimmebr01 ┆ 2022   ┆ 3     ┆ TOR    ┆ … ┆ zimmb001 ┆ zimmebr01 ┆ null       ┆ 1992-11-27 │\n",
              "│ zimmebr02 ┆ 2022   ┆ 1     ┆ BAL    ┆ … ┆ zimmb002 ┆ zimmebr02 ┆ null       ┆ 1995-02-09 │\n",
              "│ zuninmi01 ┆ 2022   ┆ 1     ┆ TBA    ┆ … ┆ zunim001 ┆ zuninmi01 ┆ null       ┆ 1991-03-25 │\n",
              "└───────────┴────────┴───────┴────────┴───┴──────────┴───────────┴────────────┴────────────┘"
            ],
            "text/html": [
              "<div><style>\n",
              ".dataframe > thead > tr,\n",
              ".dataframe > tbody > tr {\n",
              "  text-align: right;\n",
              "  white-space: pre-wrap;\n",
              "}\n",
              "</style>\n",
              "<small>shape: (112_184, 47)</small><table border=\"1\" class=\"dataframe\"><thead><tr><th>playerID</th><th>yearID</th><th>stint</th><th>teamID</th><th>lgID</th><th>G</th><th>AB</th><th>R</th><th>H</th><th>X2B</th><th>X3B</th><th>HR</th><th>RBI</th><th>SB</th><th>CS</th><th>BB</th><th>SO</th><th>IBB</th><th>HBP</th><th>SH</th><th>SF</th><th>GIDP</th><th>birthYear</th><th>birthMonth</th><th>birthDay</th><th>birthCountry</th><th>birthState</th><th>birthCity</th><th>deathYear</th><th>deathMonth</th><th>deathDay</th><th>deathCountry</th><th>deathState</th><th>deathCity</th><th>nameFirst</th><th>nameLast</th><th>nameGiven</th><th>weight</th><th>height</th><th>bats</th><th>throws</th><th>debut</th><th>finalGame</th><th>retroID</th><th>bbrefID</th><th>deathDate</th><th>birthDate</th></tr><tr><td>str</td><td>i64</td><td>i64</td><td>str</td><td>str</td><td>i64</td><td>i64</td><td>i64</td><td>i64</td><td>i64</td><td>i64</td><td>i64</td><td>i64</td><td>i64</td><td>i64</td><td>i64</td><td>i64</td><td>str</td><td>str</td><td>str</td><td>str</td><td>i64</td><td>i64</td><td>i64</td><td>i64</td><td>str</td><td>str</td><td>str</td><td>i64</td><td>i64</td><td>i64</td><td>str</td><td>str</td><td>str</td><td>str</td><td>str</td><td>str</td><td>i64</td><td>i64</td><td>str</td><td>str</td><td>str</td><td>str</td><td>str</td><td>str</td><td>str</td><td>str</td></tr></thead><tbody><tr><td>&quot;abercda01&quot;</td><td>1871</td><td>1</td><td>&quot;TRO&quot;</td><td>null</td><td>1</td><td>4</td><td>0</td><td>0</td><td>0</td><td>0</td><td>0</td><td>0</td><td>0</td><td>0</td><td>0</td><td>0</td><td>null</td><td>null</td><td>null</td><td>null</td><td>0</td><td>1850</td><td>1</td><td>2</td><td>&quot;USA&quot;</td><td>&quot;OK&quot;</td><td>&quot;Fort Towson&quot;</td><td>1939</td><td>11</td><td>11</td><td>&quot;USA&quot;</td><td>&quot;PA&quot;</td><td>&quot;Philadelphia&quot;</td><td>&quot;Frank&quot;</td><td>&quot;Abercrombie&quot;</td><td>&quot;Francis Patterson&quot;</td><td>null</td><td>null</td><td>null</td><td>null</td><td>&quot;1871-10-21&quot;</td><td>&quot;1871-10-21&quot;</td><td>&quot;aberd101&quot;</td><td>&quot;abercda01&quot;</td><td>&quot;1939-11-11&quot;</td><td>&quot;1850-01-02&quot;</td></tr><tr><td>&quot;addybo01&quot;</td><td>1871</td><td>1</td><td>&quot;RC1&quot;</td><td>null</td><td>25</td><td>118</td><td>30</td><td>32</td><td>6</td><td>0</td><td>0</td><td>13</td><td>8</td><td>1</td><td>4</td><td>0</td><td>null</td><td>null</td><td>null</td><td>null</td><td>0</td><td>1842</td><td>2</td><td>null</td><td>&quot;CAN&quot;</td><td>&quot;ON&quot;</td><td>&quot;Port Hope&quot;</td><td>1910</td><td>4</td><td>9</td><td>&quot;USA&quot;</td><td>&quot;ID&quot;</td><td>&quot;Pocatello&quot;</td><td>&quot;Bob&quot;</td><td>&quot;Addy&quot;</td><td>&quot;Robert Edward&quot;</td><td>160</td><td>68</td><td>&quot;L&quot;</td><td>&quot;L&quot;</td><td>&quot;1871-05-06&quot;</td><td>&quot;1877-10-06&quot;</td><td>&quot;addyb101&quot;</td><td>&quot;addybo01&quot;</td><td>&quot;1910-04-09&quot;</td><td>null</td></tr><tr><td>&quot;allisar01&quot;</td><td>1871</td><td>1</td><td>&quot;CL1&quot;</td><td>null</td><td>29</td><td>137</td><td>28</td><td>40</td><td>4</td><td>5</td><td>0</td><td>19</td><td>3</td><td>1</td><td>2</td><td>5</td><td>null</td><td>null</td><td>null</td><td>null</td><td>1</td><td>1849</td><td>1</td><td>29</td><td>&quot;USA&quot;</td><td>&quot;PA&quot;</td><td>&quot;Philadelphia&quot;</td><td>1916</td><td>2</td><td>25</td><td>&quot;USA&quot;</td><td>&quot;DC&quot;</td><td>&quot;Washington&quot;</td><td>&quot;Art&quot;</td><td>&quot;Allison&quot;</td><td>&quot;Arthur Algernon&quot;</td><td>150</td><td>68</td><td>null</td><td>null</td><td>&quot;1871-05-04&quot;</td><td>&quot;1876-10-05&quot;</td><td>&quot;allia101&quot;</td><td>&quot;allisar01&quot;</td><td>&quot;1916-02-25&quot;</td><td>&quot;1849-01-29&quot;</td></tr><tr><td>&quot;allisdo01&quot;</td><td>1871</td><td>1</td><td>&quot;WS3&quot;</td><td>null</td><td>27</td><td>133</td><td>28</td><td>44</td><td>10</td><td>2</td><td>2</td><td>27</td><td>1</td><td>1</td><td>0</td><td>2</td><td>null</td><td>null</td><td>null</td><td>null</td><td>0</td><td>1846</td><td>7</td><td>12</td><td>&quot;USA&quot;</td><td>&quot;PA&quot;</td><td>&quot;Philadelphia&quot;</td><td>1916</td><td>12</td><td>19</td><td>&quot;USA&quot;</td><td>&quot;DC&quot;</td><td>&quot;Washington&quot;</td><td>&quot;Doug&quot;</td><td>&quot;Allison&quot;</td><td>&quot;Douglas L.&quot;</td><td>160</td><td>70</td><td>&quot;R&quot;</td><td>&quot;R&quot;</td><td>&quot;1871-05-05&quot;</td><td>&quot;1883-07-13&quot;</td><td>&quot;allid101&quot;</td><td>&quot;allisdo01&quot;</td><td>&quot;1916-12-19&quot;</td><td>&quot;1846-07-12&quot;</td></tr><tr><td>&quot;ansonca01&quot;</td><td>1871</td><td>1</td><td>&quot;RC1&quot;</td><td>null</td><td>25</td><td>120</td><td>29</td><td>39</td><td>11</td><td>3</td><td>0</td><td>16</td><td>6</td><td>2</td><td>2</td><td>1</td><td>null</td><td>null</td><td>null</td><td>null</td><td>0</td><td>1852</td><td>4</td><td>17</td><td>&quot;USA&quot;</td><td>&quot;IA&quot;</td><td>&quot;Marshalltown&quot;</td><td>1922</td><td>4</td><td>14</td><td>&quot;USA&quot;</td><td>&quot;IL&quot;</td><td>&quot;Chicago&quot;</td><td>&quot;Cap&quot;</td><td>&quot;Anson&quot;</td><td>&quot;Adrian Constantine&quot;</td><td>227</td><td>72</td><td>&quot;R&quot;</td><td>&quot;R&quot;</td><td>&quot;1871-05-06&quot;</td><td>&quot;1897-10-03&quot;</td><td>&quot;ansoc101&quot;</td><td>&quot;ansonca01&quot;</td><td>&quot;1922-04-14&quot;</td><td>&quot;1852-04-17&quot;</td></tr><tr><td>&hellip;</td><td>&hellip;</td><td>&hellip;</td><td>&hellip;</td><td>&hellip;</td><td>&hellip;</td><td>&hellip;</td><td>&hellip;</td><td>&hellip;</td><td>&hellip;</td><td>&hellip;</td><td>&hellip;</td><td>&hellip;</td><td>&hellip;</td><td>&hellip;</td><td>&hellip;</td><td>&hellip;</td><td>&hellip;</td><td>&hellip;</td><td>&hellip;</td><td>&hellip;</td><td>&hellip;</td><td>&hellip;</td><td>&hellip;</td><td>&hellip;</td><td>&hellip;</td><td>&hellip;</td><td>&hellip;</td><td>&hellip;</td><td>&hellip;</td><td>&hellip;</td><td>&hellip;</td><td>&hellip;</td><td>&hellip;</td><td>&hellip;</td><td>&hellip;</td><td>&hellip;</td><td>&hellip;</td><td>&hellip;</td><td>&hellip;</td><td>&hellip;</td><td>&hellip;</td><td>&hellip;</td><td>&hellip;</td><td>&hellip;</td><td>&hellip;</td><td>&hellip;</td></tr><tr><td>&quot;zimmebr01&quot;</td><td>2022</td><td>1</td><td>&quot;TOR&quot;</td><td>&quot;AL&quot;</td><td>77</td><td>76</td><td>11</td><td>8</td><td>4</td><td>0</td><td>2</td><td>3</td><td>2</td><td>1</td><td>5</td><td>33</td><td>&quot;0&quot;</td><td>&quot;5&quot;</td><td>&quot;1&quot;</td><td>&quot;0&quot;</td><td>0</td><td>1992</td><td>11</td><td>27</td><td>&quot;USA&quot;</td><td>&quot;CA&quot;</td><td>&quot;San Francisco&quot;</td><td>null</td><td>null</td><td>null</td><td>null</td><td>null</td><td>null</td><td>&quot;Bradley&quot;</td><td>&quot;Zimmer&quot;</td><td>&quot;Bradley Clarke&quot;</td><td>185</td><td>76</td><td>&quot;L&quot;</td><td>&quot;R&quot;</td><td>&quot;2017-05-16&quot;</td><td>&quot;2022-10-05&quot;</td><td>&quot;zimmb001&quot;</td><td>&quot;zimmebr01&quot;</td><td>null</td><td>&quot;1992-11-27&quot;</td></tr><tr><td>&quot;zimmebr01&quot;</td><td>2022</td><td>2</td><td>&quot;PHI&quot;</td><td>&quot;NL&quot;</td><td>9</td><td>16</td><td>4</td><td>4</td><td>1</td><td>0</td><td>0</td><td>0</td><td>0</td><td>0</td><td>0</td><td>4</td><td>&quot;0&quot;</td><td>&quot;0&quot;</td><td>&quot;0&quot;</td><td>&quot;0&quot;</td><td>0</td><td>1992</td><td>11</td><td>27</td><td>&quot;USA&quot;</td><td>&quot;CA&quot;</td><td>&quot;San Francisco&quot;</td><td>null</td><td>null</td><td>null</td><td>null</td><td>null</td><td>null</td><td>&quot;Bradley&quot;</td><td>&quot;Zimmer&quot;</td><td>&quot;Bradley Clarke&quot;</td><td>185</td><td>76</td><td>&quot;L&quot;</td><td>&quot;R&quot;</td><td>&quot;2017-05-16&quot;</td><td>&quot;2022-10-05&quot;</td><td>&quot;zimmb001&quot;</td><td>&quot;zimmebr01&quot;</td><td>null</td><td>&quot;1992-11-27&quot;</td></tr><tr><td>&quot;zimmebr01&quot;</td><td>2022</td><td>3</td><td>&quot;TOR&quot;</td><td>&quot;AL&quot;</td><td>23</td><td>13</td><td>3</td><td>1</td><td>0</td><td>0</td><td>0</td><td>2</td><td>1</td><td>1</td><td>0</td><td>8</td><td>&quot;0&quot;</td><td>&quot;1&quot;</td><td>&quot;0&quot;</td><td>&quot;0&quot;</td><td>0</td><td>1992</td><td>11</td><td>27</td><td>&quot;USA&quot;</td><td>&quot;CA&quot;</td><td>&quot;San Francisco&quot;</td><td>null</td><td>null</td><td>null</td><td>null</td><td>null</td><td>null</td><td>&quot;Bradley&quot;</td><td>&quot;Zimmer&quot;</td><td>&quot;Bradley Clarke&quot;</td><td>185</td><td>76</td><td>&quot;L&quot;</td><td>&quot;R&quot;</td><td>&quot;2017-05-16&quot;</td><td>&quot;2022-10-05&quot;</td><td>&quot;zimmb001&quot;</td><td>&quot;zimmebr01&quot;</td><td>null</td><td>&quot;1992-11-27&quot;</td></tr><tr><td>&quot;zimmebr02&quot;</td><td>2022</td><td>1</td><td>&quot;BAL&quot;</td><td>&quot;AL&quot;</td><td>15</td><td>0</td><td>0</td><td>0</td><td>0</td><td>0</td><td>0</td><td>0</td><td>0</td><td>0</td><td>0</td><td>0</td><td>&quot;0&quot;</td><td>&quot;0&quot;</td><td>&quot;0&quot;</td><td>&quot;0&quot;</td><td>0</td><td>1995</td><td>2</td><td>9</td><td>&quot;USA&quot;</td><td>&quot;MD&quot;</td><td>&quot;Baltimore&quot;</td><td>null</td><td>null</td><td>null</td><td>null</td><td>null</td><td>null</td><td>&quot;Bruce&quot;</td><td>&quot;Zimmermann&quot;</td><td>&quot;Bruce Anthony&quot;</td><td>215</td><td>73</td><td>&quot;L&quot;</td><td>&quot;L&quot;</td><td>&quot;2020-09-17&quot;</td><td>&quot;2022-09-05&quot;</td><td>&quot;zimmb002&quot;</td><td>&quot;zimmebr02&quot;</td><td>null</td><td>&quot;1995-02-09&quot;</td></tr><tr><td>&quot;zuninmi01&quot;</td><td>2022</td><td>1</td><td>&quot;TBA&quot;</td><td>&quot;AL&quot;</td><td>36</td><td>115</td><td>7</td><td>17</td><td>3</td><td>0</td><td>5</td><td>16</td><td>0</td><td>0</td><td>6</td><td>46</td><td>&quot;0&quot;</td><td>&quot;1&quot;</td><td>&quot;0&quot;</td><td>&quot;1&quot;</td><td>2</td><td>1991</td><td>3</td><td>25</td><td>&quot;USA&quot;</td><td>&quot;FL&quot;</td><td>&quot;Cape Coral&quot;</td><td>null</td><td>null</td><td>null</td><td>null</td><td>null</td><td>null</td><td>&quot;Mike&quot;</td><td>&quot;Zunino&quot;</td><td>&quot;Michael Accorsi&quot;</td><td>235</td><td>74</td><td>&quot;R&quot;</td><td>&quot;R&quot;</td><td>&quot;2013-06-12&quot;</td><td>&quot;2022-06-09&quot;</td><td>&quot;zunim001&quot;</td><td>&quot;zuninmi01&quot;</td><td>null</td><td>&quot;1991-03-25&quot;</td></tr></tbody></table></div>"
            ]
          },
          "metadata": {},
          "execution_count": 20
        }
      ],
      "source": [
        "from os import stat\n",
        "# Join Batting and People DataFrames\n",
        "stats_w_bio = Batting.join(People, on=\"playerID\", how=\"inner\")\n",
        "stats_w_bio"
      ]
    },
    {
      "cell_type": "markdown",
      "metadata": {
        "id": "Pr63NEFcyU1y"
      },
      "source": [
        "#### Part B: Calculate the total number of home runs that were hit by Florida-born players\n",
        "\n",
        "You would like to perform an analysis about how many home runs (`HR`) were hit by players that were born in the `birthState` of Florida (`FL`). Using the new `stats_w_bio` DataFrame that combines batting statistics with biographical information, compute the total number of home runs (`HR`) hit by players who were born (`birthState`) in Florida (`FL`) and name the new column `total_hr`. The DataFrame should have one row and be named `florida_hr`.\n",
        "\n",
        "*Insert a block of code that shows the computation of total home runs hit by players born in Florida. The output of this code block should be a DataFrame.*"
      ]
    },
    {
      "cell_type": "code",
      "execution_count": 18,
      "metadata": {
        "id": "bBGsxFDUyU1y",
        "colab": {
          "base_uri": "https://localhost:8080/",
          "height": 129
        },
        "outputId": "bb065304-c091-4aac-cdf6-c72265aee186"
      },
      "outputs": [
        {
          "output_type": "execute_result",
          "data": {
            "text/plain": [
              "shape: (1, 1)\n",
              "┌──────────┐\n",
              "│ total_hr │\n",
              "│ ---      │\n",
              "│ i64      │\n",
              "╞══════════╡\n",
              "│ 16225    │\n",
              "└──────────┘"
            ],
            "text/html": [
              "<div><style>\n",
              ".dataframe > thead > tr,\n",
              ".dataframe > tbody > tr {\n",
              "  text-align: right;\n",
              "  white-space: pre-wrap;\n",
              "}\n",
              "</style>\n",
              "<small>shape: (1, 1)</small><table border=\"1\" class=\"dataframe\"><thead><tr><th>total_hr</th></tr><tr><td>i64</td></tr></thead><tbody><tr><td>16225</td></tr></tbody></table></div>"
            ]
          },
          "metadata": {},
          "execution_count": 18
        }
      ],
      "source": [
        "# Calculate total home runs by Florida-born players\n",
        "florida_hr = (\n",
        "    stats_w_bio.filter(pl.col(\"birthState\") == \"FL\")\n",
        "    .select(pl.col(\"HR\").sum().alias(\"total_hr\"))\n",
        ")\n",
        "florida_hr.head()"
      ]
    },
    {
      "cell_type": "markdown",
      "metadata": {
        "id": "d5v5qjkayU1y"
      },
      "source": [
        "## Question 3: What are the average number of career Hits (`H`) for Hall of Fame baseball players?\n",
        "\n",
        "#### Part A: Clean the `HallOfFame` DataFrame\n",
        "\n",
        "You would like to perform an analysis on the batting statistics of Hall of Fame baseball players. In order to answer this question, you'll need to use the `Batting` and `HallOfFame` DataFrames.\n",
        "\n",
        "The first thing that you have to do to perform this analysis is to join the `HallOfFame` data into the `Batting` data to understand which players are \"Hall of Famers\". To join the data correctly, we have to ensure that the `playerID` field is unique in `HallOfFame`. Not every player in the `HallOfFame` DataFrame is a Hall of Famer; their `inducted` field must have the value of `Y` and their `category` field should have the value of `Player`. Name the new DataFrame `hall_inducted`.\n",
        "\n",
        "*Insert a code block to transform the `HallOfFame` DataFrame to ensure that `playerID` is unique.*"
      ]
    },
    {
      "cell_type": "code",
      "execution_count": 22,
      "metadata": {
        "id": "P0lc9qLPyU1y",
        "colab": {
          "base_uri": "https://localhost:8080/",
          "height": 443
        },
        "outputId": "0ab72cf9-3803-421c-e278-9343baba1d8e"
      },
      "outputs": [
        {
          "output_type": "execute_result",
          "data": {
            "text/plain": [
              "shape: (270, 9)\n",
              "┌───────────┬────────┬──────────────┬─────────┬───┬───────┬──────────┬──────────┬─────────────┐\n",
              "│ playerID  ┆ yearID ┆ votedBy      ┆ ballots ┆ … ┆ votes ┆ inducted ┆ category ┆ needed_note │\n",
              "│ ---       ┆ ---    ┆ ---          ┆ ---     ┆   ┆ ---   ┆ ---      ┆ ---      ┆ ---         │\n",
              "│ str       ┆ i64    ┆ str          ┆ i64     ┆   ┆ i64   ┆ str      ┆ str      ┆ str         │\n",
              "╞═══════════╪════════╪══════════════╪═════════╪═══╪═══════╪══════════╪══════════╪═════════════╡\n",
              "│ coopean99 ┆ 2006   ┆ Negro League ┆ null    ┆ … ┆ null  ┆ Y        ┆ Player   ┆ null        │\n",
              "│ riverma01 ┆ 2019   ┆ BBWAA        ┆ 425     ┆ … ┆ 425   ┆ Y        ┆ Player   ┆ null        │\n",
              "│ brettge01 ┆ 1999   ┆ BBWAA        ┆ 497     ┆ … ┆ 488   ┆ Y        ┆ Player   ┆ null        │\n",
              "│ boudrlo01 ┆ 1970   ┆ BBWAA        ┆ 300     ┆ … ┆ 232   ┆ Y        ┆ Player   ┆ null        │\n",
              "│ killeha01 ┆ 1984   ┆ BBWAA        ┆ 403     ┆ … ┆ 335   ┆ Y        ┆ Player   ┆ null        │\n",
              "│ …         ┆ …      ┆ …            ┆ …       ┆ … ┆ …     ┆ …        ┆ …        ┆ …           │\n",
              "│ sandbry01 ┆ 2005   ┆ BBWAA        ┆ 516     ┆ … ┆ 393   ┆ Y        ┆ Player   ┆ null        │\n",
              "│ becklja01 ┆ 1971   ┆ Veterans     ┆ null    ┆ … ┆ null  ┆ Y        ┆ Player   ┆ null        │\n",
              "│ marquru01 ┆ 1971   ┆ Veterans     ┆ null    ┆ … ┆ null  ┆ Y        ┆ Player   ┆ null        │\n",
              "│ aparilu01 ┆ 1984   ┆ BBWAA        ┆ 403     ┆ … ┆ 341   ┆ Y        ┆ Player   ┆ null        │\n",
              "│ pennohe01 ┆ 1948   ┆ BBWAA        ┆ 121     ┆ … ┆ 94    ┆ Y        ┆ Player   ┆ null        │\n",
              "└───────────┴────────┴──────────────┴─────────┴───┴───────┴──────────┴──────────┴─────────────┘"
            ],
            "text/html": [
              "<div><style>\n",
              ".dataframe > thead > tr,\n",
              ".dataframe > tbody > tr {\n",
              "  text-align: right;\n",
              "  white-space: pre-wrap;\n",
              "}\n",
              "</style>\n",
              "<small>shape: (270, 9)</small><table border=\"1\" class=\"dataframe\"><thead><tr><th>playerID</th><th>yearID</th><th>votedBy</th><th>ballots</th><th>needed</th><th>votes</th><th>inducted</th><th>category</th><th>needed_note</th></tr><tr><td>str</td><td>i64</td><td>str</td><td>i64</td><td>i64</td><td>i64</td><td>str</td><td>str</td><td>str</td></tr></thead><tbody><tr><td>&quot;coopean99&quot;</td><td>2006</td><td>&quot;Negro League&quot;</td><td>null</td><td>null</td><td>null</td><td>&quot;Y&quot;</td><td>&quot;Player&quot;</td><td>null</td></tr><tr><td>&quot;riverma01&quot;</td><td>2019</td><td>&quot;BBWAA&quot;</td><td>425</td><td>319</td><td>425</td><td>&quot;Y&quot;</td><td>&quot;Player&quot;</td><td>null</td></tr><tr><td>&quot;brettge01&quot;</td><td>1999</td><td>&quot;BBWAA&quot;</td><td>497</td><td>373</td><td>488</td><td>&quot;Y&quot;</td><td>&quot;Player&quot;</td><td>null</td></tr><tr><td>&quot;boudrlo01&quot;</td><td>1970</td><td>&quot;BBWAA&quot;</td><td>300</td><td>225</td><td>232</td><td>&quot;Y&quot;</td><td>&quot;Player&quot;</td><td>null</td></tr><tr><td>&quot;killeha01&quot;</td><td>1984</td><td>&quot;BBWAA&quot;</td><td>403</td><td>303</td><td>335</td><td>&quot;Y&quot;</td><td>&quot;Player&quot;</td><td>null</td></tr><tr><td>&hellip;</td><td>&hellip;</td><td>&hellip;</td><td>&hellip;</td><td>&hellip;</td><td>&hellip;</td><td>&hellip;</td><td>&hellip;</td><td>&hellip;</td></tr><tr><td>&quot;sandbry01&quot;</td><td>2005</td><td>&quot;BBWAA&quot;</td><td>516</td><td>387</td><td>393</td><td>&quot;Y&quot;</td><td>&quot;Player&quot;</td><td>null</td></tr><tr><td>&quot;becklja01&quot;</td><td>1971</td><td>&quot;Veterans&quot;</td><td>null</td><td>null</td><td>null</td><td>&quot;Y&quot;</td><td>&quot;Player&quot;</td><td>null</td></tr><tr><td>&quot;marquru01&quot;</td><td>1971</td><td>&quot;Veterans&quot;</td><td>null</td><td>null</td><td>null</td><td>&quot;Y&quot;</td><td>&quot;Player&quot;</td><td>null</td></tr><tr><td>&quot;aparilu01&quot;</td><td>1984</td><td>&quot;BBWAA&quot;</td><td>403</td><td>303</td><td>341</td><td>&quot;Y&quot;</td><td>&quot;Player&quot;</td><td>null</td></tr><tr><td>&quot;pennohe01&quot;</td><td>1948</td><td>&quot;BBWAA&quot;</td><td>121</td><td>91</td><td>94</td><td>&quot;Y&quot;</td><td>&quot;Player&quot;</td><td>null</td></tr></tbody></table></div>"
            ]
          },
          "metadata": {},
          "execution_count": 22
        }
      ],
      "source": [
        "# Clean HallOfFame DataFrame\n",
        "hall_inducted = HallOfFame.filter((pl.col('inducted') == 'Y') & (pl.col('category') == 'Player'))\n",
        "hall_inducted.unique(subset='playerID')"
      ]
    },
    {
      "cell_type": "markdown",
      "metadata": {
        "id": "A6z9HFdjyU1y"
      },
      "source": [
        "#### Part B: Find the average number of career hits across Hall of Fame players\n",
        "\n",
        "Join the `hall_inducted` data into the `Batting` data by `playerID`. Aggregate the data to compute the average total hits (`H`) across all Hall of Fame players. To do this, you will first need to calculate the total number of hits for each player and then calculate the average hits across all players. Call the new column `average_hits`. The resulting DataFrame should have one row and be named `hof_hits`.\n",
        "\n",
        "*Insert a code block that joins the `Batting` and the `hall_inducted` data together and then calculates the average number of career hits (`H`) across all Hall of Fame players. The output of this code block should be a DataFrame.*"
      ]
    },
    {
      "cell_type": "code",
      "execution_count": 24,
      "metadata": {
        "id": "JzWY4cVbyU1y",
        "colab": {
          "base_uri": "https://localhost:8080/",
          "height": 443
        },
        "outputId": "6bf18419-e8b3-4f08-a4c1-f679f6b23c96"
      },
      "outputs": [
        {
          "output_type": "execute_result",
          "data": {
            "text/plain": [
              "shape: (20_469, 2)\n",
              "┌───────────┬──────────────┐\n",
              "│ playerID  ┆ average_hits │\n",
              "│ ---       ┆ ---          │\n",
              "│ str       ┆ f64          │\n",
              "╞═══════════╪══════════════╡\n",
              "│ thompwi01 ┆ 0.0          │\n",
              "│ henslma01 ┆ 0.0          │\n",
              "│ gordobr01 ┆ 0.0          │\n",
              "│ morilju01 ┆ 0.0          │\n",
              "│ okajihi01 ┆ 0.0          │\n",
              "│ …         ┆ …            │\n",
              "│ jeterde01 ┆ 173.25       │\n",
              "│ cobbty01  ┆ 174.541667   │\n",
              "│ sislege01 ┆ 175.75       │\n",
              "│ burkeje01 ┆ 178.125      │\n",
              "│ puckeki01 ┆ 192.0        │\n",
              "└───────────┴──────────────┘"
            ],
            "text/html": [
              "<div><style>\n",
              ".dataframe > thead > tr,\n",
              ".dataframe > tbody > tr {\n",
              "  text-align: right;\n",
              "  white-space: pre-wrap;\n",
              "}\n",
              "</style>\n",
              "<small>shape: (20_469, 2)</small><table border=\"1\" class=\"dataframe\"><thead><tr><th>playerID</th><th>average_hits</th></tr><tr><td>str</td><td>f64</td></tr></thead><tbody><tr><td>&quot;thompwi01&quot;</td><td>0.0</td></tr><tr><td>&quot;henslma01&quot;</td><td>0.0</td></tr><tr><td>&quot;gordobr01&quot;</td><td>0.0</td></tr><tr><td>&quot;morilju01&quot;</td><td>0.0</td></tr><tr><td>&quot;okajihi01&quot;</td><td>0.0</td></tr><tr><td>&hellip;</td><td>&hellip;</td></tr><tr><td>&quot;jeterde01&quot;</td><td>173.25</td></tr><tr><td>&quot;cobbty01&quot;</td><td>174.541667</td></tr><tr><td>&quot;sislege01&quot;</td><td>175.75</td></tr><tr><td>&quot;burkeje01&quot;</td><td>178.125</td></tr><tr><td>&quot;puckeki01&quot;</td><td>192.0</td></tr></tbody></table></div>"
            ]
          },
          "metadata": {},
          "execution_count": 24
        }
      ],
      "source": [
        "# Calculate average career hits for Hall of Fame players\n",
        "\n",
        "hof_hits = (\n",
        "    Batting\n",
        "    .join(hall_inducted, on=\"playerID\", how=\"left\")\n",
        "    .group_by('playerID')\n",
        "    .agg([\n",
        "        pl.col('H').mean().alias('average_hits')\n",
        "    ])\n",
        "    )\n",
        "hof_hits.sort('average_hits', descending=False)"
      ]
    }
  ],
  "metadata": {
    "kernelspec": {
      "display_name": "Python 3",
      "language": "python",
      "name": "python3"
    },
    "language_info": {
      "codemirror_mode": {
        "name": "ipython",
        "version": 3
      },
      "file_extension": ".py",
      "mimetype": "text/x-python",
      "name": "python",
      "nbconvert_exporter": "python",
      "pygments_lexer": "ipython3",
      "version": "3.12.0"
    },
    "colab": {
      "provenance": []
    }
  },
  "nbformat": 4,
  "nbformat_minor": 0
}